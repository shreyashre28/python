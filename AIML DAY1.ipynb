{
 "cells": [
  {
   "cell_type": "markdown",
   "id": "63a416db",
   "metadata": {},
   "source": [
    "# basic"
   ]
  },
  {
   "cell_type": "code",
   "execution_count": 1,
   "id": "0ecca718",
   "metadata": {},
   "outputs": [
    {
     "name": "stdout",
     "output_type": "stream",
     "text": [
      "hello\n"
     ]
    }
   ],
   "source": [
    "print('hello')"
   ]
  },
  {
   "cell_type": "code",
   "execution_count": 2,
   "id": "626aa658",
   "metadata": {},
   "outputs": [
    {
     "name": "stdout",
     "output_type": "stream",
     "text": [
      "24\n"
     ]
    }
   ],
   "source": [
    "a=24\n",
    "print(a)"
   ]
  },
  {
   "cell_type": "code",
   "execution_count": 3,
   "id": "989f7ac8",
   "metadata": {},
   "outputs": [
    {
     "name": "stdout",
     "output_type": "stream",
     "text": [
      "i am 24 years old\n"
     ]
    }
   ],
   "source": [
    "print(\"i am\",a,\"years old\")"
   ]
  },
  {
   "cell_type": "code",
   "execution_count": 4,
   "id": "d7db6dea",
   "metadata": {},
   "outputs": [
    {
     "name": "stdout",
     "output_type": "stream",
     "text": [
      "38\n"
     ]
    }
   ],
   "source": [
    "a=24\n",
    "b=14\n",
    "c=a+b\n",
    "print(c)"
   ]
  },
  {
   "cell_type": "code",
   "execution_count": 1,
   "id": "ccf2f4f2",
   "metadata": {},
   "outputs": [
    {
     "name": "stdout",
     "output_type": "stream",
     "text": [
      "enter the first num:5\n",
      "enter the sec num:6\n",
      "the sum is 11\n"
     ]
    }
   ],
   "source": [
    "num1=int(input(\"enter the first num:\"))\n",
    "num2=int(input(\"enter the sec num:\"))\n",
    "s=num1+num2\n",
    "print(\"the sum is\",s)"
   ]
  },
  {
   "cell_type": "code",
   "execution_count": 2,
   "id": "5d738e72",
   "metadata": {},
   "outputs": [
    {
     "name": "stdout",
     "output_type": "stream",
     "text": [
      "enter the first num:6\n",
      "enter the sec num5\n",
      "the product is 30\n"
     ]
    }
   ],
   "source": [
    "num1=int(input(\"enter the first num:\"))\n",
    "num2=int(input(\"enter the sec num\"))\n",
    "s=num1*num2\n",
    "print(\"the product is\",s)"
   ]
  },
  {
   "cell_type": "code",
   "execution_count": 4,
   "id": "e5cc11ef",
   "metadata": {},
   "outputs": [
    {
     "name": "stdout",
     "output_type": "stream",
     "text": [
      "enter the first num:100\n",
      "enter the sec num50\n",
      "the quotient is 2\n"
     ]
    }
   ],
   "source": [
    "num1=int(input(\"enter the first num:\"))\n",
    "num2=int(input(\"enter the sec num\"))\n",
    "s=num1//num2\n",
    "print(\"the quotient is\",s)"
   ]
  },
  {
   "cell_type": "code",
   "execution_count": 5,
   "id": "345fb438",
   "metadata": {},
   "outputs": [
    {
     "name": "stdout",
     "output_type": "stream",
     "text": [
      "enter the first num:4\n",
      "enter the sec num2\n",
      "the sum is 2.0\n"
     ]
    }
   ],
   "source": [
    "num1=float(input(\"enter the first num:\"))\n",
    "num2=float(input(\"enter the sec num\"))\n",
    "s=num1//num2\n",
    "print(\"the remainder is\",s)"
   ]
  },
  {
   "cell_type": "code",
   "execution_count": 6,
   "id": "618d59dd",
   "metadata": {},
   "outputs": [
    {
     "name": "stdout",
     "output_type": "stream",
     "text": [
      "enter the first num:10\n",
      "enter the sec num5\n",
      "the remainder is 0\n"
     ]
    }
   ],
   "source": [
    "num1=int(input(\"enter the first num:\"))\n",
    "num2=int(input(\"enter the sec num\"))\n",
    "s=num1%num2\n",
    "print(\"the remainder is\",s)"
   ]
  },
  {
   "cell_type": "code",
   "execution_count": null,
   "id": "addc6f44",
   "metadata": {},
   "outputs": [],
   "source": [
    "s=(input(\"enter the password:\"))\n",
    "password=\"shre15\"\n",
    "\n",
    "if(s==password):\n",
    "    print(\"welcome\")\n",
    "else:\n",
    "    print(\"try again!\")"
   ]
  },
  {
   "cell_type": "code",
   "execution_count": null,
   "id": "b43ea4a9",
   "metadata": {},
   "outputs": [],
   "source": [
    "s=int(input(\"enter the pin:\"))\n",
    "pin=1234\n",
    "\n",
    "s=input(\"enter the password:\")\n",
    "password=\"shree1234\"\n",
    "\n",
    "if(pin and password):\n",
    "    print(\"welcome shreya\")\n",
    "    \n",
    "else:\n",
    "    print(\"try again\")"
   ]
  },
  {
   "cell_type": "code",
   "execution_count": null,
   "id": "986141f9",
   "metadata": {},
   "outputs": [],
   "source": [
    "s=int(input(\"enter the pin:\"))\n",
    "pin=1234\n",
    "\n",
    "s=input(\"enter the password:\")\n",
    "password=\"shree1234\"\n",
    "\n",
    "if(pin==s and s==password):\n",
    "    print(\"welcome shreya\")\n",
    "    \n",
    "else:\n",
    "    print(\"try again\")"
   ]
  },
  {
   "cell_type": "code",
   "execution_count": null,
   "id": "af69637d",
   "metadata": {},
   "outputs": [],
   "source": [
    "s=int(input(\"enter the pin:\"))\n",
    "pin=1234\n",
    "\n",
    "s1=input(\"enter the password:\")\n",
    "password=\"shree1234\"\n",
    "\n",
    "if(pin==s or password==s1):\n",
    "    print(\"welcome shreya\")\n",
    "    \n",
    "else:\n",
    "    print(\"try again\")"
   ]
  },
  {
   "cell_type": "code",
   "execution_count": 7,
   "id": "d9ff60f3",
   "metadata": {},
   "outputs": [
    {
     "name": "stdout",
     "output_type": "stream",
     "text": [
      "you\n"
     ]
    }
   ],
   "source": [
    "s=\"hello how are you?\"\n",
    "#[start:end]\n",
    "print(s[-4:-1])"
   ]
  },
  {
   "cell_type": "code",
   "execution_count": 8,
   "id": "a2c98654",
   "metadata": {},
   "outputs": [
    {
     "name": "stdout",
     "output_type": "stream",
     "text": [
      "y\n",
      "o\n",
      "u\n"
     ]
    }
   ],
   "source": [
    "len(s)\n",
    "for i in range(-4,-1):\n",
    "    print(s[i])"
   ]
  },
  {
   "cell_type": "code",
   "execution_count": 9,
   "id": "d1bdc61b",
   "metadata": {},
   "outputs": [
    {
     "name": "stdout",
     "output_type": "stream",
     "text": [
      " \n",
      "h\n",
      "o\n",
      "w\n",
      " \n"
     ]
    }
   ],
   "source": [
    "for i in range(5,10):\n",
    "    print(s[i])"
   ]
  },
  {
   "cell_type": "code",
   "execution_count": 5,
   "id": "94a1c087",
   "metadata": {},
   "outputs": [
    {
     "name": "stdout",
     "output_type": "stream",
     "text": [
      "120\n"
     ]
    }
   ],
   "source": [
    "fact=1\n",
    "i=1\n",
    "\n",
    "while i<=5:\n",
    "    fact=fact*i\n",
    "    i=i+1\n",
    "print(fact)\n",
    "\n"
   ]
  },
  {
   "cell_type": "code",
   "execution_count": 4,
   "id": "fa70c151",
   "metadata": {},
   "outputs": [
    {
     "name": "stdout",
     "output_type": "stream",
     "text": [
      "0\n",
      "1\n",
      "3\n",
      "6\n",
      "10\n",
      "15\n"
     ]
    }
   ],
   "source": [
    "s=0\n",
    "i=0\n",
    "while i<6:\n",
    "    s+=i\n",
    "    i+=1\n",
    "    print(s)\n"
   ]
  },
  {
   "cell_type": "markdown",
   "id": "45316b64",
   "metadata": {},
   "source": [
    "# collections"
   ]
  },
  {
   "cell_type": "code",
   "execution_count": 1,
   "id": "b3a107e9",
   "metadata": {},
   "outputs": [
    {
     "name": "stdout",
     "output_type": "stream",
     "text": [
      "[15, 'shreya', 'july', 2003, 15, True]\n"
     ]
    }
   ],
   "source": [
    "#list is hetergrnous datatypes,mutable\n",
    "#it can also include duplicates\n",
    "list=[15,'shreya','july',2003,15 ,True]\n",
    "print(list)"
   ]
  },
  {
   "cell_type": "code",
   "execution_count": 2,
   "id": "1e8bd0bb",
   "metadata": {},
   "outputs": [
    {
     "name": "stdout",
     "output_type": "stream",
     "text": [
      "[15, 'shreya', 'july', 2003, 15, True, 'shre']\n"
     ]
    }
   ],
   "source": [
    "#append is used add element in the end of list\n",
    "list.append('shre')\n",
    "print(list)"
   ]
  },
  {
   "cell_type": "code",
   "execution_count": 3,
   "id": "cb166ec6",
   "metadata": {},
   "outputs": [
    {
     "name": "stdout",
     "output_type": "stream",
     "text": [
      "[15, 'shreya', 'tuesday', 'july', 2003, 15, True, 'shre']\n"
     ]
    }
   ],
   "source": [
    "#insert will add the element which index position we select\n",
    "list.insert(2,'tuesday')\n",
    "print(list)"
   ]
  },
  {
   "cell_type": "code",
   "execution_count": 10,
   "id": "962aa24b",
   "metadata": {},
   "outputs": [],
   "source": [
    "list.remove(True)"
   ]
  },
  {
   "cell_type": "code",
   "execution_count": 11,
   "id": "1df6b34a",
   "metadata": {},
   "outputs": [
    {
     "name": "stdout",
     "output_type": "stream",
     "text": [
      "[15, 'shreya', 'tuesday', 'july', 2003, 15, 'shre']\n"
     ]
    }
   ],
   "source": [
    "print(list)"
   ]
  },
  {
   "cell_type": "code",
   "execution_count": 12,
   "id": "1f0210bb",
   "metadata": {},
   "outputs": [
    {
     "name": "stdout",
     "output_type": "stream",
     "text": [
      "[]\n"
     ]
    }
   ],
   "source": [
    "list.clear()\n",
    "print(list)"
   ]
  },
  {
   "cell_type": "code",
   "execution_count": 13,
   "id": "2882b263",
   "metadata": {},
   "outputs": [
    {
     "name": "stdout",
     "output_type": "stream",
     "text": [
      "[1, 25, 36, 93.4, 5, 36.5, 56, 0]\n"
     ]
    }
   ],
   "source": [
    "list1=[1,25,36,93.4]\n",
    "list2=[5,36.5,56,0]\n",
    "print(list1+list2)"
   ]
  },
  {
   "cell_type": "code",
   "execution_count": 25,
   "id": "ce06479c",
   "metadata": {},
   "outputs": [],
   "source": [
    " list1.extend(list2)\n"
   ]
  },
  {
   "cell_type": "code",
   "execution_count": 27,
   "id": "820ff649",
   "metadata": {},
   "outputs": [
    {
     "data": {
      "text/plain": [
       "[5, 36.5, 56, 0]"
      ]
     },
     "execution_count": 27,
     "metadata": {},
     "output_type": "execute_result"
    }
   ],
   "source": [
    "list2\n",
    "\n"
   ]
  },
  {
   "cell_type": "code",
   "execution_count": 20,
   "id": "06c8eb2a",
   "metadata": {},
   "outputs": [
    {
     "name": "stdout",
     "output_type": "stream",
     "text": [
      "[952, 36, 89, 7, 45, 0]\n"
     ]
    }
   ],
   "source": [
    "list5=[952,36,89,7,45,0]\n",
    "# list5.sort(list5)\n",
    "print(list5)"
   ]
  },
  {
   "cell_type": "code",
   "execution_count": 23,
   "id": "e193d427",
   "metadata": {},
   "outputs": [
    {
     "name": "stdout",
     "output_type": "stream",
     "text": [
      "[952, 89, 45, 36, 7, 0]\n"
     ]
    }
   ],
   "source": [
    "list5=[952,36,89,7,45,0]\n",
    "list5.sort(reverse= True)#reverse=true it will sort in descending order\n",
    "print(list5)"
   ]
  },
  {
   "cell_type": "code",
   "execution_count": 28,
   "id": "9e16b838",
   "metadata": {},
   "outputs": [
    {
     "name": "stdout",
     "output_type": "stream",
     "text": [
      "[0, 7, 36, 45, 89, 952]\n"
     ]
    }
   ],
   "source": [
    "list5=[952,36,89,7,45,0]\n",
    "list5.sort(reverse= False)#reverse=false it will sort in ascending order\n",
    "print(list5)"
   ]
  },
  {
   "cell_type": "code",
   "execution_count": 30,
   "id": "fa4f642b",
   "metadata": {},
   "outputs": [
    {
     "name": "stdout",
     "output_type": "stream",
     "text": [
      "[0, 7, 36, 45, 89, 952]\n"
     ]
    }
   ],
   "source": [
    "list5=[952,36,89,7,45,0]\n",
    "list5=sorted(list5)#sorted will never change the list order\n",
    "print(list5)"
   ]
  },
  {
   "cell_type": "code",
   "execution_count": 32,
   "id": "1b8c1849",
   "metadata": {},
   "outputs": [
    {
     "data": {
      "text/plain": [
       "[0, 7, 36, 45, 89, 952]"
      ]
     },
     "execution_count": 32,
     "metadata": {},
     "output_type": "execute_result"
    }
   ],
   "source": [
    "list5=[952,36,89,7,45,0]\n",
    "list6=sorted(list5)\n",
    "list6"
   ]
  },
  {
   "cell_type": "code",
   "execution_count": 7,
   "id": "dbdb99c0",
   "metadata": {},
   "outputs": [
    {
     "name": "stdout",
     "output_type": "stream",
     "text": [
      "906304\n",
      "1296\n",
      "7921\n",
      "49\n",
      "2025\n",
      "0\n"
     ]
    }
   ],
   "source": [
    "list5=[952,36,89,7,45,0]\n",
    "\n",
    "for i in list5:\n",
    "    print(i*i)"
   ]
  },
  {
   "cell_type": "code",
   "execution_count": 8,
   "id": "29561835",
   "metadata": {},
   "outputs": [],
   "source": [
    "#newlist=[output for listanme]\n",
    "listnew=[i*i for i in list5]"
   ]
  },
  {
   "cell_type": "code",
   "execution_count": 9,
   "id": "0e05252f",
   "metadata": {},
   "outputs": [
    {
     "data": {
      "text/plain": [
       "[906304, 1296, 7921, 49, 2025, 0]"
      ]
     },
     "execution_count": 9,
     "metadata": {},
     "output_type": "execute_result"
    }
   ],
   "source": [
    "listnew"
   ]
  },
  {
   "cell_type": "code",
   "execution_count": 2,
   "id": "1981606a",
   "metadata": {},
   "outputs": [],
   "source": [
    "list5=[952,36,89,7,45,0]\n",
    "s=[]\n",
    "for i in list5:\n",
    "    if i>50:\n",
    "        s.append(i*i)\n",
    "    "
   ]
  },
  {
   "cell_type": "code",
   "execution_count": 3,
   "id": "1bb63f38",
   "metadata": {},
   "outputs": [
    {
     "data": {
      "text/plain": [
       "[906304, 7921]"
      ]
     },
     "execution_count": 3,
     "metadata": {},
     "output_type": "execute_result"
    }
   ],
   "source": [
    "s"
   ]
  },
  {
   "cell_type": "code",
   "execution_count": 5,
   "id": "35075e39",
   "metadata": {},
   "outputs": [],
   "source": [
    "slc=[i*i for i in list5 if i>50]"
   ]
  },
  {
   "cell_type": "code",
   "execution_count": 6,
   "id": "50bd9050",
   "metadata": {},
   "outputs": [
    {
     "data": {
      "text/plain": [
       "[906304, 7921]"
      ]
     },
     "execution_count": 6,
     "metadata": {},
     "output_type": "execute_result"
    }
   ],
   "source": [
    "slc"
   ]
  },
  {
   "cell_type": "code",
   "execution_count": 11,
   "id": "3c316089",
   "metadata": {},
   "outputs": [],
   "source": [
    "marks=[90,89,99,32,45,100]\n",
    "grades=[]\n",
    "\n",
    "for i in marks:\n",
    "    if i>90:\n",
    "        grades.append(\"A\")\n",
    "    else:\n",
    "        grades.append(\"B\")"
   ]
  },
  {
   "cell_type": "code",
   "execution_count": 12,
   "id": "4a4b9e0e",
   "metadata": {},
   "outputs": [
    {
     "data": {
      "text/plain": [
       "['B', 'B', 'A', 'B', 'B', 'A']"
      ]
     },
     "execution_count": 12,
     "metadata": {},
     "output_type": "execute_result"
    }
   ],
   "source": [
    "grades"
   ]
  },
  {
   "cell_type": "code",
   "execution_count": 13,
   "id": "5780e01c",
   "metadata": {},
   "outputs": [],
   "source": [
    "gradeslc=[\"A\" if i>90 else \"B\" for i in marks]"
   ]
  },
  {
   "cell_type": "code",
   "execution_count": 14,
   "id": "1fca4850",
   "metadata": {},
   "outputs": [
    {
     "data": {
      "text/plain": [
       "['B', 'B', 'A', 'B', 'B', 'A']"
      ]
     },
     "execution_count": 14,
     "metadata": {},
     "output_type": "execute_result"
    }
   ],
   "source": [
    "gradeslc"
   ]
  },
  {
   "cell_type": "raw",
   "id": "ec417cea",
   "metadata": {},
   "source": [
    "# if the salary is more than 50000 ,reduce 10% tax else reduce reduce 5% tax and save remaining salary in a new list"
   ]
  },
  {
   "cell_type": "code",
   "execution_count": 23,
   "id": "43b0bf0d",
   "metadata": {},
   "outputs": [],
   "source": [
    "sal=[19000,78000,10000,56000,45000,12000]\n",
    "newsal=[]\n",
    "\n",
    "for i in sal:\n",
    "    if i>50000:\n",
    "        #sal-sal*10%\n",
    "         newsal.append( i-i*0.1)\n",
    "    else:\n",
    "        newsal.append(i-i*0.05)"
   ]
  },
  {
   "cell_type": "code",
   "execution_count": 24,
   "id": "a6adbe4f",
   "metadata": {},
   "outputs": [
    {
     "data": {
      "text/plain": [
       "[18050.0, 70200.0, 9500.0, 50400.0, 42750.0, 11400.0]"
      ]
     },
     "execution_count": 24,
     "metadata": {},
     "output_type": "execute_result"
    }
   ],
   "source": [
    "newsal"
   ]
  },
  {
   "cell_type": "code",
   "execution_count": 25,
   "id": "ff95415b",
   "metadata": {},
   "outputs": [],
   "source": [
    "#newsallc=[(cond of if) (if)  (else) (else cond) (for cond)]\n",
    "newsallc=[i-i*0.1 if i>50000 else i-i*0.05 for i in sal]"
   ]
  },
  {
   "cell_type": "code",
   "execution_count": 26,
   "id": "9c1912ff",
   "metadata": {},
   "outputs": [
    {
     "data": {
      "text/plain": [
       "[18050.0, 70200.0, 9500.0, 50400.0, 42750.0, 11400.0]"
      ]
     },
     "execution_count": 26,
     "metadata": {},
     "output_type": "execute_result"
    }
   ],
   "source": [
    "newsallc"
   ]
  },
  {
   "cell_type": "code",
   "execution_count": 30,
   "id": "93babf89",
   "metadata": {},
   "outputs": [
    {
     "name": "stdout",
     "output_type": "stream",
     "text": [
      "6\n",
      "61\n",
      "41\n",
      "93\n",
      "60\n"
     ]
    }
   ],
   "source": [
    "list1=[1,25,36,93,4]\n",
    "list2=[5,36,5,0,56]\n",
    "\n",
    "for i,j in zip(list1,list2):\n",
    "    print(i+j)"
   ]
  },
  {
   "cell_type": "markdown",
   "id": "f2a446c1",
   "metadata": {},
   "source": [
    "# tuple"
   ]
  },
  {
   "cell_type": "code",
   "execution_count": 34,
   "id": "1eccd685",
   "metadata": {},
   "outputs": [],
   "source": [
    "tup1=(5,'hello','hi',True,98.3)"
   ]
  },
  {
   "cell_type": "code",
   "execution_count": 35,
   "id": "aea14bc6",
   "metadata": {},
   "outputs": [
    {
     "data": {
      "text/plain": [
       "(5, 'hello', 'hi', True, 98.3)"
      ]
     },
     "execution_count": 35,
     "metadata": {},
     "output_type": "execute_result"
    }
   ],
   "source": [
    "tup1"
   ]
  },
  {
   "cell_type": "code",
   "execution_count": 36,
   "id": "bc84ea2e",
   "metadata": {},
   "outputs": [
    {
     "name": "stdout",
     "output_type": "stream",
     "text": [
      "99.98\n",
      "56\n",
      "4\n"
     ]
    }
   ],
   "source": [
    "tup2=(69,56,99.9,99.98)\n",
    "print(max(tup2))\n",
    "print(min(tup2))\n",
    "print(len(tup2))"
   ]
  },
  {
   "cell_type": "code",
   "execution_count": 37,
   "id": "52bff6ff",
   "metadata": {},
   "outputs": [],
   "source": [
    "tup3=sorted(tup2)"
   ]
  },
  {
   "cell_type": "code",
   "execution_count": 38,
   "id": "002dfec8",
   "metadata": {},
   "outputs": [
    {
     "data": {
      "text/plain": [
       "[56, 69, 99.9, 99.98]"
      ]
     },
     "execution_count": 38,
     "metadata": {},
     "output_type": "execute_result"
    }
   ],
   "source": [
    "tup3"
   ]
  },
  {
   "cell_type": "markdown",
   "id": "72865097",
   "metadata": {},
   "source": [
    "# Dictionary"
   ]
  },
  {
   "cell_type": "code",
   "execution_count": 39,
   "id": "eec7ad02",
   "metadata": {},
   "outputs": [],
   "source": [
    "dict1={1:\"shre\",1:\"shreya\",1:\"shree\"}"
   ]
  },
  {
   "cell_type": "code",
   "execution_count": 40,
   "id": "2ddf4e26",
   "metadata": {},
   "outputs": [
    {
     "data": {
      "text/plain": [
       "{1: 'shree'}"
      ]
     },
     "execution_count": 40,
     "metadata": {},
     "output_type": "execute_result"
    }
   ],
   "source": [
    "dict1"
   ]
  },
  {
   "cell_type": "code",
   "execution_count": 45,
   "id": "947dc413",
   "metadata": {},
   "outputs": [],
   "source": [
    "dict2={1:\"joe\", 2:\"shashi\",3:\"shashi\"}\n"
   ]
  },
  {
   "cell_type": "code",
   "execution_count": 46,
   "id": "cf2917b7",
   "metadata": {},
   "outputs": [
    {
     "data": {
      "text/plain": [
       "{1: 'joe', 2: 'shashi', 3: 'shashi'}"
      ]
     },
     "execution_count": 46,
     "metadata": {},
     "output_type": "execute_result"
    }
   ],
   "source": [
    "dict2"
   ]
  },
  {
   "cell_type": "code",
   "execution_count": 58,
   "id": "278ca8ad",
   "metadata": {},
   "outputs": [
    {
     "ename": "SyntaxError",
     "evalue": "unexpected EOF while parsing (1638369916.py, line 1)",
     "output_type": "error",
     "traceback": [
      "\u001b[1;36m  Input \u001b[1;32mIn [58]\u001b[1;36m\u001b[0m\n\u001b[1;33m    dict3={'name':\"shreya\",'hobbies':['sleeping','watching k dramas','eating']\u001b[0m\n\u001b[1;37m                                                                              ^\u001b[0m\n\u001b[1;31mSyntaxError\u001b[0m\u001b[1;31m:\u001b[0m unexpected EOF while parsing\n"
     ]
    }
   ],
   "source": [
    "dict3={'name':\"shreya\",'hobbies':['sleeping','watching k dramas','eating']"
   ]
  },
  {
   "cell_type": "code",
   "execution_count": 49,
   "id": "91be8cd3",
   "metadata": {},
   "outputs": [
    {
     "name": "stdout",
     "output_type": "stream",
     "text": [
      "['sleeping', 'watching k dramas', 'eating']\n"
     ]
    }
   ],
   "source": [
    "print(dict3['hobbies'])"
   ]
  },
  {
   "cell_type": "markdown",
   "id": "831a5671",
   "metadata": {},
   "source": [
    "print(dict3[])"
   ]
  },
  {
   "cell_type": "code",
   "execution_count": 54,
   "id": "ee2017bf",
   "metadata": {},
   "outputs": [
    {
     "name": "stdout",
     "output_type": "stream",
     "text": [
      "eating\n"
     ]
    }
   ],
   "source": [
    "print(dict3['hobbies'][2])"
   ]
  },
  {
   "cell_type": "code",
   "execution_count": 62,
   "id": "3e07c530",
   "metadata": {},
   "outputs": [
    {
     "name": "stdout",
     "output_type": "stream",
     "text": [
      "shreya's hobbies are ['sleeping', 'watching k dramas', 'eating']\n"
     ]
    }
   ],
   "source": [
    "\n",
    "print(\"shreya's hobbies are\",dict3['hobbies'])"
   ]
  },
  {
   "cell_type": "code",
   "execution_count": 60,
   "id": "7e2e0c61",
   "metadata": {},
   "outputs": [
    {
     "data": {
      "text/plain": [
       "dict_items([('name', 'shreya'), ('hobbies', ['sleeping', 'watching k dramas', 'eating'])])"
      ]
     },
     "execution_count": 60,
     "metadata": {},
     "output_type": "execute_result"
    }
   ],
   "source": [
    "dict3.items()"
   ]
  },
  {
   "cell_type": "code",
   "execution_count": 61,
   "id": "f34cc927",
   "metadata": {},
   "outputs": [
    {
     "data": {
      "text/plain": [
       "dict_keys(['name', 'hobbies'])"
      ]
     },
     "execution_count": 61,
     "metadata": {},
     "output_type": "execute_result"
    }
   ],
   "source": [
    "dict3.keys()"
   ]
  },
  {
   "cell_type": "markdown",
   "id": "89bcda30",
   "metadata": {},
   "source": [
    "# set"
   ]
  },
  {
   "cell_type": "code",
   "execution_count": null,
   "id": "ab274217",
   "metadata": {},
   "outputs": [],
   "source": []
  }
 ],
 "metadata": {
  "kernelspec": {
   "display_name": "Python 3 (ipykernel)",
   "language": "python",
   "name": "python3"
  },
  "language_info": {
   "codemirror_mode": {
    "name": "ipython",
    "version": 3
   },
   "file_extension": ".py",
   "mimetype": "text/x-python",
   "name": "python",
   "nbconvert_exporter": "python",
   "pygments_lexer": "ipython3",
   "version": "3.9.12"
  }
 },
 "nbformat": 4,
 "nbformat_minor": 5
}
